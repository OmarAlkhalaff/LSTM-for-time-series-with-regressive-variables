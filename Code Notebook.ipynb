{
 "cells": [
  {
   "cell_type": "markdown",
   "id": "60e6b4d5",
   "metadata": {},
   "source": [
    "#  Long Short-Term Memory for Predicting Energy Demand in Saudi Arabia \n",
    "\n",
    "This project comes as part of my endeavour in learning the implementation of RNNs, especially with time series forecasting. In this work I have collected the data of the following economic and demographic indicators for Saudi Arabia:\n",
    " - Energy Consumption, GDP, Electricity Generation, Population, Oil Production, Gas Production.\n",
    "\n",
    "I'm going to treat 'Energy Consumption' as a multivariate label with respect to the rest of the variables. To predict the future output of a multivariate time series, the input variables must first be projected into the future then be used to forecast the output label.\n",
    "\n",
    "The data set consists of 40 points on the range [1980,2019]. It's a relativley small set, nonetheless, it provides a suitable example for implemnting LSTMs in time series forecasting. \n",
    "\n",
    "This project is divided into to main parts:\n",
    "\n",
    "    (1).   In this part I will make univariate LSTM models for each of the aforementioned variables, except Energy Consumption because it is the output label to my problem. I will forecast a 12 point time period for each variable. The first 8 points of this period lie at the end of the available data set. These 8 points will provide assurance that the model I will develop later (for energy consumption) is actually reliable once I perform evaluation. The last 4 points of the forcasted 12 point period will be used as input for the multivariate LSTM to predict future values for Energy Consumption.\n",
    "\n",
    "    (2).   In this part I will develop a multivariate time series for Energy Consumption using the other variables. My method for evaluating this model is twofold. First, train/validate/test using the availble 32 data points plus 8 forecasted points from the previous section. Second, use the developed model to predict the last 8 points of the data set and evaluate. The second step is necessary to avoid cumulative error. Finally, I will use the evaluated model to forecast Energy Consumption for the future.\n",
    "    \n",
    "Finally, it should be noted that the results serve an educational purpose and only represent a data driven prediction which lack the influence of many factors such as political factors.\n",
    "\n",
    "Sources:\n",
    " - for energy related variables: https://www.eia.gov/international/data/country/SAU\n",
    " - for socio-economic variables: https://www.worldbank.org/\n"
   ]
  },
  {
   "cell_type": "code",
   "execution_count": 16,
   "id": "aa5124f6",
   "metadata": {},
   "outputs": [],
   "source": [
    "import numpy as np\n",
    "import pandas as pd\n",
    "from sklearn.model_selection import train_test_split\n",
    "from sklearn.preprocessing import StandardScaler\n",
    "from sklearn.metrics import mean_squared_error as mse \n",
    "from sklearn.metrics import mean_absolute_error as mae\n",
    "from sklearn.metrics import mean_absolute_percentage_error as mape\n",
    "import tensorflow as tf\n",
    "from tensorflow import keras\n",
    "from tensorflow.keras import layers\n",
    "import matplotlib.pyplot as plt\n",
    "from matplotlib.ticker import MultipleLocator, FormatStrFormatter\n",
    "   \n",
    "%matplotlib inline"
   ]
  },
  {
   "cell_type": "code",
   "execution_count": 17,
   "id": "31ed6540",
   "metadata": {},
   "outputs": [],
   "source": [
    "# 'preprocess' takes in data matrix or vector and performs random shuffling + scaling + preparing input shape for the LSTM \n",
    "def preprocess(data,n_past,n_future):\n",
    "    # set indecies for train/val/test split\n",
    "    np.random.seed(34)\n",
    "    rand_index = np.random.permutation(range(data.shape[0]-n_past))\n",
    "    train_test_split_index = int(0.8 *(data.shape[0]-n_past))\n",
    "    train_val_split_index = int(0.8*train_test_split_index)\n",
    "\n",
    "    train_indecies = rand_index[:train_val_split_index]\n",
    "    val_indecies = rand_index[train_val_split_index:train_test_split_index]\n",
    "    test_indecies  = rand_index[train_test_split_index:]\n",
    "\n",
    "    SC = StandardScaler()\n",
    "    SC = SC.fit(data[train_indecies])\n",
    "    SC_y = StandardScaler()\n",
    "    SC_y = SC_y.fit(data[train_indecies,0:1])\n",
    "    \n",
    "    scaled_x = SC.transform(data)\n",
    "    scales = {'SC':SC,'SC_y':SC_y}\n",
    "    \n",
    "    # prepare input for LSTM\n",
    "    x_data = np.zeros((scaled_x.shape[0]-n_past, n_past, scaled_x.shape[1]))\n",
    "    y_data = np.zeros((scaled_x.shape[0]-n_past, 1))\n",
    "        # set input shape for LSTM\n",
    "    j=n_past\n",
    "    for i in range(x_data.shape[0]):\n",
    "        x_data[i] = scaled_x[j-n_past:j]\n",
    "        y_data[i] = scaled_x[j+n_future-1: j+n_future,0]\n",
    "        j+=1\n",
    "    # perform train/val/test split using generated indecies  \n",
    "    x_train = x_data[train_indecies]\n",
    "    x_val = x_data[val_indecies]\n",
    "    x_test = x_data[test_indecies]\n",
    "\n",
    "    y_train = y_data[train_indecies]\n",
    "    y_val = y_data[val_indecies]\n",
    "    y_test = y_data[test_indecies]\n",
    "    \n",
    "    return x_train, x_val, x_test, y_train, y_val, y_test, scales, rand_index\n",
    "\n",
    "# 'compile_LSTM' takes in the shape of input + number of hidden layers and returns the compiled LSTM\n",
    "# I should note that I set the number of units to be 10 for the univariate time series and 14 for the \n",
    "# multivariate time series due to the small number of features and data points.\n",
    "def compile_LSTM(shape, units, summary=False):\n",
    "    tf.random.set_seed(34)\n",
    "    model = keras.Sequential(\n",
    "        [\n",
    "            layers.LSTM(units = units , input_shape=(shape), \n",
    "                   activation = 'relu', return_sequences=True),\n",
    "            layers.LSTM(units = int(units), activation = 'relu', return_sequences=False),\n",
    "            layers.Dense(units=1)\n",
    "        ]\n",
    "    )\n",
    "    model.compile(optimizer = 'adam' , loss='mse', metrics=tf.keras.metrics.RootMeanSquaredError())\n",
    "    if summary:\n",
    "        model.summary()\n",
    "    return model\n",
    "\n",
    "# 'train_LSTM' takes in train/val/test and the number of units, returns: the developed model + model history + test results\n",
    "def train_LSTM(x_train, x_val, x_test, y_train, y_val, y_test, units):\n",
    "    \n",
    "    model = compile_LSTM(shape = x_train.shape[1:], units = units, summary=False)\n",
    "    \n",
    "    es = tf.keras.callbacks.EarlyStopping(monitor='val_loss', mode='auto', \n",
    "                                           min_delta=1e-7, patience=10, restore_best_weights=True)\n",
    "    history = model.fit(x_train,y_train, validation_data=(x_val, y_val),shuffle = False, epochs = 100,\n",
    "                    callbacks = [es], verbose=0,batch_size = 2)\n",
    "    # Test results \n",
    "    y_pred = model.predict(x_test)\n",
    "    test_res = {'RMSE':mse(y_test,y_pred,squared=False), 'MAE':mae(y_test,y_pred), 'MAPE':mape(y_test,y_pred)}\n",
    "    \n",
    "    return model , history, test_res\n",
    "\n",
    "# 'retrieve_time_sequence' takes in the shuffled data sets and returns the original full set with the correct time order\n",
    "def retrieve_time_sequence(x_train, x_val, x_test, y_train, y_val, y_test, rand_index):\n",
    "        # reconstruct\n",
    "    x_data = np.concatenate((x_train,x_val,x_test),axis=0)\n",
    "    y_data = np.concatenate((y_train,y_val,y_test),axis=0)\n",
    "\n",
    "    # sort them back in the correct time order\n",
    "    revert_index = revert_permutation(rand_index)\n",
    "    x_data = x_data[revert_index]\n",
    "    y_data = y_data[revert_index]\n",
    "    \n",
    "    return x_data, y_data\n",
    "\n",
    "# predict_univariate takes in the time ordered data set + the last 4 instances corresponding to n_past + the start \n",
    "# and end indecies for forecasting, returns the forecasted values.  \n",
    "def predict_univariate(x_data, last_instances, n_past, start, end):\n",
    "    \n",
    "    past_x = x_data[start:]\n",
    "    past_y = model.predict(past_x)\n",
    "    \n",
    "    future_x = np.zeros((end + 1 - (x_data.shape[0] + n_past), n_past, 1))\n",
    "    future_y = np.zeros((end + 1 - (x_data.shape[0] + n_past), 1))\n",
    "    \n",
    "    future_x[0] = last_instances\n",
    "    future_y[0] = model.predict(future_x[0:1])\n",
    "    for i in range(future_y.shape[0]-1):\n",
    "        future_x[i+1] = np.concatenate((future_x[i,1:,:].flatten(),future_y[i].flatten()),axis=0).reshape(1,n_past,1)\n",
    "        future_y[i+1] = model.predict(future_x[i+1:i+2])\n",
    "        \n",
    "    \n",
    "    return np.concatenate((past_y,future_y),axis=0)\n",
    "\n",
    "# 'learning_summary' plot function to produce the learning summary and the test results\n",
    "def learning_summary(history, test_res):\n",
    "\n",
    "    print(\"results on the test set:\")\n",
    "    print(\"RMSE = \"+format(test_res['RMSE'],\".4f\"))\n",
    "    print(\"MAE = \"+format(test_res['MAE'],\".4f\"))\n",
    "    print(\"%MAE = \"+format(test_res['MAPE'],\".4f\"))\n",
    "    fig, ax = plt.subplots(figsize=(16,6))\n",
    "    ax.set_title('Train/Val Summary')\n",
    "    ax.set_ylabel('Loss',fontsize=14)\n",
    "    ax.set_xlabel('Epochs',fontsize=14)\n",
    "    ax.plot(history.history['loss'], label = 'Training loss')\n",
    "    ax.plot(history.history['val_loss'], label = 'Validation loss')\n",
    "    plt.legend()\n",
    "    plt.show()\n",
    "\n",
    "# 'forecast_past' plot function to produce the results on the forecasted past instances, if this result is good \n",
    "# it will give us confidence in our multivariate model.\n",
    "def forecast_past(y_true, y_pred, dates):\n",
    "    \n",
    "    print(\"Results on forecast:\")\n",
    "    print(\"RMSE = \"+format(mse(y_true, y_pred, squared=False),\".4f\"))\n",
    "    print(\"MAE = \"+format(mae(y_true, y_pred),\".4f\"))\n",
    "    print(\"MAPE = \"+format(mape(y_true, y_pred),\".4f\"))\n",
    "    fig, ax = plt.subplots(figsize=(16,6))\n",
    "    ax.set_title('Prediction with multivariate model using forecasted features from univariate models')\n",
    "    ax.set_ylabel('Energy Consumption (quad Btu)',fontsize=14)\n",
    "    ax.set_xlabel('Year',fontsize=14)\n",
    "    ax.bar(dates, y_true.flatten(), label = 'Original values', color='k', width = 0.3)\n",
    "    ax.bar(dates, y_pred.flatten(), label = 'Predicted values', color='gray', width = 0.2)\n",
    "    ax.yaxis.set_major_locator(MultipleLocator(1))\n",
    "    ax.yaxis.set_major_formatter(FormatStrFormatter('% 1.f'))\n",
    "    plt.legend() \n",
    "    plt.show()\n",
    "\n",
    "# 'forecast_energy_consumption' plot function to produce the final result of the project. \n",
    "def forecast_energy_consumption(y_past,y_forecasted,dates):\n",
    "    \n",
    "    fig, ax = plt.subplots(figsize=(16,6))\n",
    "    ax.set_title('Prediction with multivariate model for past and future')\n",
    "    ax.set_ylabel('Energy Consumption (quad Btu)',fontsize=14)\n",
    "    ax.set_xlabel('Year',fontsize=14)\n",
    "    ax.bar(dates, y_past.flatten(), label = 'Original values', color='k', width = 0.5)\n",
    "    ax.bar(np.arange(2012,2025), y_forecasted.flatten(), label = 'Predicted values', color='gray', width = 0.3)\n",
    "    ax.yaxis.set_major_locator(MultipleLocator(1))\n",
    "    ax.yaxis.set_major_formatter(FormatStrFormatter('% 1.f'))\n",
    "    plt.legend() \n",
    "    plt.show()\n",
    "\n",
    "    # 'revert_permutation' takes in a random permutation index and returns the inverse, \n",
    "# this is used to retriev the time sequence after shuffling\n",
    "def revert_permutation(p):\n",
    "    p = np.asanyarray(p) \n",
    "    s = np.empty_like(p)\n",
    "    s[p] = np.arange(p.size)\n",
    "    return s"
   ]
  },
  {
   "cell_type": "code",
   "execution_count": 27,
   "id": "82813aa1",
   "metadata": {
    "scrolled": false
   },
   "outputs": [
    {
     "data": {
      "text/html": [
       "<div>\n",
       "<style scoped>\n",
       "    .dataframe tbody tr th:only-of-type {\n",
       "        vertical-align: middle;\n",
       "    }\n",
       "\n",
       "    .dataframe tbody tr th {\n",
       "        vertical-align: top;\n",
       "    }\n",
       "\n",
       "    .dataframe thead th {\n",
       "        text-align: right;\n",
       "    }\n",
       "</style>\n",
       "<table border=\"1\" class=\"dataframe\">\n",
       "  <thead>\n",
       "    <tr style=\"text-align: right;\">\n",
       "      <th></th>\n",
       "      <th>Energy Consumption</th>\n",
       "      <th>GDP</th>\n",
       "      <th>Electricity Generation</th>\n",
       "      <th>Population</th>\n",
       "      <th>Oil Production</th>\n",
       "      <th>Gas Production</th>\n",
       "      <th>Year</th>\n",
       "    </tr>\n",
       "  </thead>\n",
       "  <tbody>\n",
       "    <tr>\n",
       "      <th>0</th>\n",
       "      <td>1.653827</td>\n",
       "      <td>1.645420e+11</td>\n",
       "      <td>20.452</td>\n",
       "      <td>9691471</td>\n",
       "      <td>9900.158470</td>\n",
       "      <td>334</td>\n",
       "      <td>1980</td>\n",
       "    </tr>\n",
       "    <tr>\n",
       "      <th>1</th>\n",
       "      <td>2.018999</td>\n",
       "      <td>1.842920e+11</td>\n",
       "      <td>26.950</td>\n",
       "      <td>10311771</td>\n",
       "      <td>9814.947945</td>\n",
       "      <td>564</td>\n",
       "      <td>1981</td>\n",
       "    </tr>\n",
       "    <tr>\n",
       "      <th>2</th>\n",
       "      <td>1.985304</td>\n",
       "      <td>1.532390e+11</td>\n",
       "      <td>32.912</td>\n",
       "      <td>10988851</td>\n",
       "      <td>6482.991781</td>\n",
       "      <td>430</td>\n",
       "      <td>1982</td>\n",
       "    </tr>\n",
       "    <tr>\n",
       "      <th>3</th>\n",
       "      <td>2.121986</td>\n",
       "      <td>1.291720e+11</td>\n",
       "      <td>35.190</td>\n",
       "      <td>11701132</td>\n",
       "      <td>5085.895890</td>\n",
       "      <td>418</td>\n",
       "      <td>1983</td>\n",
       "    </tr>\n",
       "    <tr>\n",
       "      <th>4</th>\n",
       "      <td>2.466369</td>\n",
       "      <td>1.196250e+11</td>\n",
       "      <td>40.069</td>\n",
       "      <td>12418836</td>\n",
       "      <td>4663.202186</td>\n",
       "      <td>620</td>\n",
       "      <td>1984</td>\n",
       "    </tr>\n",
       "  </tbody>\n",
       "</table>\n",
       "</div>"
      ],
      "text/plain": [
       "   Energy Consumption           GDP  Electricity Generation  Population  \\\n",
       "0            1.653827  1.645420e+11                  20.452     9691471   \n",
       "1            2.018999  1.842920e+11                  26.950    10311771   \n",
       "2            1.985304  1.532390e+11                  32.912    10988851   \n",
       "3            2.121986  1.291720e+11                  35.190    11701132   \n",
       "4            2.466369  1.196250e+11                  40.069    12418836   \n",
       "\n",
       "   Oil Production  Gas Production  Year  \n",
       "0     9900.158470             334  1980  \n",
       "1     9814.947945             564  1981  \n",
       "2     6482.991781             430  1982  \n",
       "3     5085.895890             418  1983  \n",
       "4     4663.202186             620  1984  "
      ]
     },
     "metadata": {},
     "output_type": "display_data"
    },
    {
     "data": {
      "text/plain": [
       "(40, 7)"
      ]
     },
     "execution_count": 27,
     "metadata": {},
     "output_type": "execute_result"
    }
   ],
   "source": [
    "df = pd.read_csv('./data.csv')\n",
    "\n",
    "display(df.head())\n",
    "df.shape"
   ]
  },
  {
   "cell_type": "markdown",
   "id": "29b424e5",
   "metadata": {},
   "source": [
    "# 1. Univariate Time Series Forecasting for Variables\n",
    "\n",
    "In this part I will train a univariate time series for each variable and then:\n",
    "\n",
    "- Forecast the last 8 points in the original time series + future 5 points that represent the values for a variable in the years [2012-2019] + [2020-2024]. \n",
    "- Evaluate the performance of the five univariate models"
   ]
  },
  {
   "cell_type": "markdown",
   "id": "4f207283",
   "metadata": {},
   "source": [
    "# 1.1\n",
    "Forecast the last 8 points in the original time series + future 5 points that represent the values for a variable in the years [2012-2019] + [2020-2024].\n"
   ]
  },
  {
   "cell_type": "code",
   "execution_count": 19,
   "id": "94e209e9",
   "metadata": {
    "scrolled": true
   },
   "outputs": [
    {
     "name": "stdout",
     "output_type": "stream",
     "text": [
      "Model: \"sequential_6\"\n",
      "_________________________________________________________________\n",
      " Layer (type)                Output Shape              Param #   \n",
      "=================================================================\n",
      " lstm_12 (LSTM)              (None, 4, 10)             480       \n",
      "                                                                 \n",
      " lstm_13 (LSTM)              (None, 10)                840       \n",
      "                                                                 \n",
      " dense_6 (Dense)             (None, 1)                 11        \n",
      "                                                                 \n",
      "=================================================================\n",
      "Total params: 1,331\n",
      "Trainable params: 1,331\n",
      "Non-trainable params: 0\n",
      "_________________________________________________________________\n",
      "Shape of x_train = (22, 4, 1), y_train = (22, 1)\n",
      "Shape of x_val = (6, 4, 1), y_val = (6, 1)\n",
      "Shape of x_test = (8, 4, 1), y_test = (8, 1)\n"
     ]
    }
   ],
   "source": [
    "columns = list(df)[:-1] # excluding 'Year'\n",
    "\n",
    "data = df[columns].astype(float)\n",
    "\n",
    "# create dictionaries to save the results for each variable\n",
    "data_dict = {}\n",
    "scales_dict  = {}\n",
    "model_dict = {}\n",
    "history_dict = {}\n",
    "test_res_dict = {}\n",
    "y_pred_dict = {}\n",
    "\n",
    "summary = 1\n",
    "for var in columns[1:]:\n",
    "    \n",
    "    var_data = data[[var]].values\n",
    "    n_future = 1 # number of time-step into the future to be predicted.\n",
    "    n_past = 4 # number of past instances to consider for every predicted instance. \n",
    "    \n",
    "    # preprocess and record the random shuffling index, the random index will be needed to retrieve the time sequence\n",
    "    x_train, x_val, x_test, y_train, y_val, y_test, scales, rand_index = preprocess(var_data,n_past = n_past,\n",
    "                                                                                    n_future = n_future)\n",
    "      #save\n",
    "    var_dict = {'x_train':x_train, 'x_val':x_val, 'x_test':x_test,\n",
    "               'y_train':y_train, 'y_val':y_val, 'y_test':y_test} \n",
    "    data_dict[var] = var_dict \n",
    "    scales_dict[var] = scales\n",
    "    \n",
    "    # create univariate model and keep results\n",
    "    model , history, test_res = train_LSTM(x_train, x_val, x_test, y_train, y_val, y_test, units= 10)\n",
    "        #save\n",
    "    model_dict[var] = model\n",
    "    history_dict[var] = history\n",
    "    test_res_dict[var] = test_res\n",
    "    \n",
    "    # retrieve the time sequence of the data using the saved random index\n",
    "    x_data, y_data = retrieve_time_sequence( x_train, x_val, x_test, y_train, y_val, y_test, rand_index)\n",
    "    \n",
    "    # Forecast the last 8 years [2012,2019] and the future 5 years [2020,2024]\n",
    "        # since we have the first 4 points not included then the start index is: \n",
    "        # (the size of the data set - n_past - last 8 years = 40 - 4 - 8 = 28\n",
    "        # the end index can be treated as (the size of the past set + the size of the future set - 1) = 40 +5 -1 = 44\n",
    "    last_instances = scales['SC'].transform(var_data[-n_past:])\n",
    "    y_pred = predict_univariate(x_data, last_instances = last_instances, n_past = n_past, start = 28, end = 44)\n",
    "        #save\n",
    "    y_pred_dict[var] = y_pred\n",
    "    \n",
    "    if summary:\n",
    "        model.summary()\n",
    "        print('Shape of x_train = {}, y_train = {}'.format(x_train.shape, y_train.shape))\n",
    "        print('Shape of x_val = {}, y_val = {}'.format(x_val.shape, y_val.shape))\n",
    "        print('Shape of x_test = {}, y_test = {}'.format(x_test.shape, y_test.shape))\n",
    "        summary=0"
   ]
  },
  {
   "cell_type": "markdown",
   "id": "2453a417",
   "metadata": {},
   "source": [
    "# 1.2\n",
    "Evaluate the performance of the five univariate models"
   ]
  },
  {
   "cell_type": "code",
   "execution_count": 20,
   "id": "97a9c7b8",
   "metadata": {},
   "outputs": [
    {
     "name": "stdout",
     "output_type": "stream",
     "text": [
      "The averaged performance of the 5 univariate LSTM models:\n",
      "avg_RMSE = 0.1281\n",
      "avg_MAE = 0.0909\n",
      "avg_MAPE = 0.4223\n"
     ]
    }
   ],
   "source": [
    "RMSE_sum = 0\n",
    "MAE_sum = 0\n",
    "MAPE_sum = 0\n",
    "\n",
    "for var in test_res_dict:\n",
    "    RMSE_sum += test_res_dict[var]['RMSE']\n",
    "    MAE_sum +=test_res_dict[var]['MAE']\n",
    "    MAPE_sum +=test_res_dict[var]['MAPE']\n",
    "print('The averaged performance of the 5 univariate LSTM models:')\n",
    "print('avg_RMSE = ' + format(RMSE_sum/len(test_res_dict),\".4f\"))\n",
    "print('avg_MAE = ' + format(MAE_sum/len(test_res_dict),\".4f\"))\n",
    "print('avg_MAPE = ' + format(MAPE_sum/len(test_res_dict),\".4f\"))"
   ]
  },
  {
   "cell_type": "markdown",
   "id": "c9b45244",
   "metadata": {},
   "source": [
    "# 2. Multivariate Time Series for Energy Consumption\n",
    "In this section I will use the original data on the period [1980-2011] and the forecasted values for the variables on the period [2012-2024] to build a multivariate time series for energy consumption 'ENcons'.\n",
    "\n",
    "- construct the time series dataframe:\n",
    "    - inverse transform the predicted values.\n",
    "    - put the transformed predicted values in place of the original values in the set 'data'.\n",
    "- perform the training & evaluation of the multivariate LSTM model.\n",
    "- forecast the last 8 time steps [2012,2019] of the data set & evaluate.\n",
    "- forecast future years."
   ]
  },
  {
   "cell_type": "markdown",
   "id": "750bc3cc",
   "metadata": {},
   "source": [
    "# 2.1\n",
    "   - inverse transform the predicted values.\n",
    "   - put the transformed predicted values in place of the original values in the set 'data'."
   ]
  },
  {
   "cell_type": "code",
   "execution_count": 21,
   "id": "cdd783ab",
   "metadata": {},
   "outputs": [],
   "source": [
    "replace_index = len(y_pred_dict['GDP'])-5 #the number of instances that will be replaced by their forecasted values.\n",
    "data = data.values\n",
    "for i, var in enumerate(columns[1:]):\n",
    "    # inverse transform the predicted values\n",
    "    y_pred_dict[var] = scales_dict[var]['SC'].inverse_transform(y_pred_dict[var])\n",
    "    \n",
    "    # replace original values in the data set with the predicted values \n",
    "    data[-replace_index:,i+1:i+2] = y_pred_dict[var][:replace_index]  "
   ]
  },
  {
   "cell_type": "markdown",
   "id": "7165176e",
   "metadata": {},
   "source": [
    "# 2.2\n",
    "Perform the training & evaluation of the multivariate LSTM model\n",
    " "
   ]
  },
  {
   "cell_type": "code",
   "execution_count": 22,
   "id": "3240206d",
   "metadata": {},
   "outputs": [
    {
     "name": "stdout",
     "output_type": "stream",
     "text": [
      "Shape of x_train = (22, 4, 6), y_train = (22, 1)\n",
      "Shape of x_val = (6, 4, 6), y_val = (6, 1)\n",
      "Shape of x_test = (8, 4, 6), y_test = (8, 1)\n"
     ]
    }
   ],
   "source": [
    "# perform Preprocessing\n",
    "x_train, x_val, x_test, y_train, y_val, y_test, scales, rand_index = preprocess(data,n_past = 4, n_future = 1)\n",
    "print('Shape of x_train = {}, y_train = {}'.format(x_train.shape, y_train.shape))\n",
    "print('Shape of x_val = {}, y_val = {}'.format(x_val.shape, y_val.shape))\n",
    "print('Shape of x_test = {}, y_test = {}'.format(x_test.shape, y_test.shape))"
   ]
  },
  {
   "cell_type": "code",
   "execution_count": 23,
   "id": "85fa01af",
   "metadata": {},
   "outputs": [
    {
     "name": "stdout",
     "output_type": "stream",
     "text": [
      "Model: \"sequential_11\"\n",
      "_________________________________________________________________\n",
      " Layer (type)                Output Shape              Param #   \n",
      "=================================================================\n",
      " lstm_22 (LSTM)              (None, 4, 14)             1176      \n",
      "                                                                 \n",
      " lstm_23 (LSTM)              (None, 14)                1624      \n",
      "                                                                 \n",
      " dense_11 (Dense)            (None, 1)                 15        \n",
      "                                                                 \n",
      "=================================================================\n",
      "Total params: 2,815\n",
      "Trainable params: 2,815\n",
      "Non-trainable params: 0\n",
      "_________________________________________________________________\n",
      "results on the test set:\n",
      "RMSE = 0.0952\n",
      "MAE = 0.0719\n",
      "%MAE = 0.1167\n"
     ]
    },
    {
     "data": {
      "image/png": "[encoded data removed]",
      "text/plain": [
       "<Figure size 1152x432 with 1 Axes>"
      ]
     },
     "metadata": {
      "needs_background": "light"
     },
     "output_type": "display_data"
    }
   ],
   "source": [
    "# create Multivariate model and keep results\n",
    "model, history, test_res = train_LSTM(x_train, x_val, x_test, y_train, y_val, y_test,units=14)\n",
    "model.summary()\n",
    "learning_summary(history, test_res)"
   ]
  },
  {
   "cell_type": "markdown",
   "id": "70c98bdd",
   "metadata": {},
   "source": [
    "# 2.3\n",
    "Forecast the last 8 time steps [2012,2019] of the data set & evaluate.\n"
   ]
  },
  {
   "cell_type": "code",
   "execution_count": 24,
   "id": "01814073",
   "metadata": {},
   "outputs": [
    {
     "name": "stdout",
     "output_type": "stream",
     "text": [
      "Results on forecast:\n",
      "RMSE = 0.2084\n",
      "MAE = 0.1319\n",
      "MAPE = 0.0125\n"
     ]
    },
    {
     "data": {
      "image/png": "[encoded data removed]",
      "text/plain": [
       "<Figure size 1152x432 with 1 Axes>"
      ]
     },
     "metadata": {
      "needs_background": "light"
     },
     "output_type": "display_data"
    }
   ],
   "source": [
    "# retrieve time sequence \n",
    "x_data, y_data = retrieve_time_sequence( x_train, x_val, x_test, y_train, y_val, y_test, rand_index)\n",
    "\n",
    "# prepare for plot\n",
    "dates = df['Year'].values.flatten()\n",
    "y_true = data[-replace_index:,0:1]\n",
    "y_pred = scales['SC_y'].inverse_transform(model.predict(x_data[-replace_index:]))\n",
    "forecast_past(y_true, y_pred, dates[-replace_index:])"
   ]
  },
  {
   "cell_type": "markdown",
   "id": "1990c08a",
   "metadata": {},
   "source": [
    "These results give confidence in the multivariate model since it's fitting the past 8 years with relativley good precision"
   ]
  },
  {
   "cell_type": "markdown",
   "id": "35321713",
   "metadata": {},
   "source": [
    "# 2.4\n",
    "Forecast future years."
   ]
  },
  {
   "cell_type": "code",
   "execution_count": 25,
   "id": "9346f0a1",
   "metadata": {},
   "outputs": [],
   "source": [
    "# get the forecaste values of the 5 variables\n",
    "future_data = y_pred_dict['GDP'][replace_index:]\n",
    "for var in list(y_pred_dict)[1:]:\n",
    "    future_data = np.concatenate((future_data, y_pred_dict[var][replace_index:]),axis=1)\n",
    "# append zeros column to save place for the values of y (energy condumption) to be forecasted\n",
    "future_data = np.concatenate((np.zeros((5,1)),future_data),axis=1) \n",
    "\n",
    "# concatenate with the last 4 instances from the original data(this is needed because the future predicted value depends on them)\n",
    "future_data = np.concatenate((data[-4:],future_data),axis=0)\n",
    "scaled_future_data = scales['SC'].transform(future_data)"
   ]
  },
  {
   "cell_type": "code",
   "execution_count": 26,
   "id": "29257844",
   "metadata": {
    "scrolled": false
   },
   "outputs": [
    {
     "data": {
      "image/png": "[encoded data removed]",
      "text/plain": [
       "<Figure size 1152x432 with 1 Axes>"
      ]
     },
     "metadata": {
      "needs_background": "light"
     },
     "output_type": "display_data"
    }
   ],
   "source": [
    "# prepare input for LSTM\n",
    "x_future = np.zeros((5,4,6))\n",
    "y_future = np.zeros((5,1))\n",
    "\n",
    "j=n_past # = 4\n",
    "for i in range(x_future.shape[0]):\n",
    "    # prepare input instances\n",
    "    x_future[i] = scaled_future_data[j-n_past:j,:]\n",
    "    # predict\n",
    "    y_future_pred = model.predict(x_future[i:i+1]).flatten()\n",
    "    scaled_future_data[j,0]= y_future_pred # replace the zero value in the first column with the true y value\n",
    "    y_future[i] = y_future_pred\n",
    "    j+=1\n",
    "\n",
    "# plot the real values vs. predicted values\n",
    "y_past = data[:,0:1]\n",
    "y_forecasted = np.concatenate((y_pred,scales['SC_y'].inverse_transform(y_future)),axis=0)\n",
    "forecast_energy_consumption(y_past,y_forecasted,dates)"
   ]
  }
 ],
 "metadata": {
  "kernelspec": {
   "display_name": "Python 3 (ipykernel)",
   "language": "python",
   "name": "python3"
  },
  "language_info": {
   "codemirror_mode": {
    "name": "ipython",
    "version": 3
   },
   "file_extension": ".py",
   "mimetype": "text/x-python",
   "name": "python",
   "nbconvert_exporter": "python",
   "pygments_lexer": "ipython3",
   "version": "3.9.7"
  }
 },
 "nbformat": 4,
 "nbformat_minor": 5
}
